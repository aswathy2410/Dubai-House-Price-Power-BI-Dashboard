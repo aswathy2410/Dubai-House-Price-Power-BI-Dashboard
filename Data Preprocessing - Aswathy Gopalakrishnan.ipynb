{
 "cells": [
  {
   "cell_type": "markdown",
   "id": "687acd2c",
   "metadata": {},
   "source": [
    "# Dubai House Price Project\n",
    "### Submitted by Aswathy Gopalakrishnan"
   ]
  },
  {
   "cell_type": "markdown",
   "id": "715f883d",
   "metadata": {},
   "source": [
    "### Import Libraries"
   ]
  },
  {
   "cell_type": "code",
   "execution_count": 67,
   "id": "47594fd1",
   "metadata": {},
   "outputs": [],
   "source": [
    "import pandas as pd\n",
    "import numpy as np\n",
    "import matplotlib.pyplot as plt\n",
    "import seaborn as sns"
   ]
  },
  {
   "cell_type": "markdown",
   "id": "34ecd4f8",
   "metadata": {},
   "source": [
    "### Load Data"
   ]
  },
  {
   "cell_type": "code",
   "execution_count": 56,
   "id": "6238e38b",
   "metadata": {},
   "outputs": [],
   "source": [
    "data = pd.read_csv('housing_price_dataset.csv')"
   ]
  },
  {
   "cell_type": "markdown",
   "id": "ebcc09a7",
   "metadata": {},
   "source": [
    "### Data Understanding"
   ]
  },
  {
   "cell_type": "code",
   "execution_count": 57,
   "id": "5ab3f0bb",
   "metadata": {},
   "outputs": [
    {
     "name": "stdout",
     "output_type": "stream",
     "text": [
      "Number of rows: 50000\n",
      "Number of columns: 6\n"
     ]
    }
   ],
   "source": [
    "rows, cols = data.shape\n",
    "print(f\"Number of rows: {rows}\")\n",
    "print(f\"Number of columns: {cols}\")"
   ]
  },
  {
   "cell_type": "code",
   "execution_count": 58,
   "id": "8a1563fc",
   "metadata": {},
   "outputs": [
    {
     "name": "stdout",
     "output_type": "stream",
     "text": [
      "\n",
      "Data types of each column:\n",
      "SquareFeet        int64\n",
      "Bedrooms          int64\n",
      "Bathrooms         int64\n",
      "Neighborhood     object\n",
      "YearBuilt         int64\n",
      "Price           float64\n",
      "dtype: object\n"
     ]
    }
   ],
   "source": [
    "print(\"\\nData types of each column:\")\n",
    "print(data.dtypes)"
   ]
  },
  {
   "cell_type": "code",
   "execution_count": 59,
   "id": "c9318a3d",
   "metadata": {},
   "outputs": [
    {
     "name": "stdout",
     "output_type": "stream",
     "text": [
      "\n",
      "Unique values in each column:\n",
      "SquareFeet (2000 unique values): [2126 2459 1860 ... 2864 2330 2084]\n",
      "Bedrooms (4 unique values): [4 3 2 5]\n",
      "Bathrooms (3 unique values): [1 2 3]\n",
      "Neighborhood (3 unique values): ['Rural' 'Suburb' 'Urban']\n",
      "YearBuilt (72 unique values): [1969 1980 1970 1996 2001 2020 1993 1957 1959 2004 1951 1987 1992 1989\n",
      " 1976 1956 1977 1979 1962 1999 1978 1963 2013 2002 1952 2014 1965 2006\n",
      " 2008 1982 1966 1971 2021 1960 2016 2007 1994 1988 2000 2015 1983 1961\n",
      " 1972 2017 1985 1975 2012 2019 1995 1986 1981 1954 1958 2005 1984 1997\n",
      " 2003 1964 2018 1953 1968 1955 1967 1950 1998 1991 2010 1973 2011 1990\n",
      " 1974 2009]\n",
      "Price (50000 unique values): [215355.2836182  195014.22162585 306891.01207633 ... 384110.55559035\n",
      " 380512.68595684 221618.58321807]\n"
     ]
    }
   ],
   "source": [
    "print(\"\\nUnique values in each column:\")\n",
    "for column in data.columns:\n",
    "    unique_vals = data[column].unique()\n",
    "    print(f\"{column} ({len(unique_vals)} unique values): {unique_vals}\")"
   ]
  },
  {
   "cell_type": "markdown",
   "id": "88b5752b",
   "metadata": {},
   "source": [
    "### Missing and Duplicate Values"
   ]
  },
  {
   "cell_type": "code",
   "execution_count": 60,
   "id": "e489a01d",
   "metadata": {},
   "outputs": [
    {
     "name": "stdout",
     "output_type": "stream",
     "text": [
      "\n",
      "Missing values per column:\n",
      "SquareFeet      0\n",
      "Bedrooms        0\n",
      "Bathrooms       0\n",
      "Neighborhood    0\n",
      "YearBuilt       0\n",
      "Price           0\n",
      "dtype: int64\n"
     ]
    }
   ],
   "source": [
    "missing_counts = data.isnull().sum()\n",
    "print(\"\\nMissing values per column:\")\n",
    "print(missing_counts)"
   ]
  },
  {
   "cell_type": "code",
   "execution_count": 61,
   "id": "c4e8b94d",
   "metadata": {},
   "outputs": [
    {
     "name": "stdout",
     "output_type": "stream",
     "text": [
      "\n",
      "Number of duplicate rows: 0\n"
     ]
    }
   ],
   "source": [
    "duplicate_count = data.duplicated().sum()\n",
    "print(f\"\\nNumber of duplicate rows: {duplicate_count}\")"
   ]
  },
  {
   "cell_type": "markdown",
   "id": "67fc1fd0",
   "metadata": {},
   "source": [
    "### Handling Data Ambiguities"
   ]
  },
  {
   "cell_type": "markdown",
   "id": "5d71b74c",
   "metadata": {},
   "source": [
    "Some values in price columns are negative. These are made positive by taking the absolute value."
   ]
  },
  {
   "cell_type": "code",
   "execution_count": 62,
   "id": "1373c953",
   "metadata": {},
   "outputs": [
    {
     "name": "stdout",
     "output_type": "stream",
     "text": [
      "Number of rows with negative prices: 22\n",
      "Negative prices converted to positive.\n"
     ]
    }
   ],
   "source": [
    "# 1. Handle negative values in the 'Price' column\n",
    "negative_price_count = data[data['Price'] < 0].shape[0]\n",
    "print(f\"Number of rows with negative prices: {negative_price_count}\")\n",
    "\n",
    "# Convert negative prices to positive\n",
    "data['Price'] = abs(data['Price'])\n",
    "print(\"Negative prices converted to positive.\")\n"
   ]
  },
  {
   "cell_type": "markdown",
   "id": "f96f2718",
   "metadata": {},
   "source": [
    "Some prices look abnormal with considerably less values even for a high squarefeet, large number of bedrooms, and a good neighbourhood.Let's print these rows by selecting a threshold of 100000"
   ]
  },
  {
   "cell_type": "code",
   "execution_count": 63,
   "id": "5cab0b16",
   "metadata": {},
   "outputs": [
    {
     "name": "stdout",
     "output_type": "stream",
     "text": [
      "\n",
      "Rows with prices below 10000.0000:\n",
      "       SquareFeet  Bedrooms  Bathrooms Neighborhood  YearBuilt        Price\n",
      "2310         1036         4          1       Suburb       1983  7550.504574\n",
      "4537         1102         2          1       Suburb       1967  5796.058628\n",
      "4993         1161         2          2       Suburb       1972  8336.559189\n",
      "5426         1492         3          1       Suburb       1970  9255.923304\n",
      "5951         1097         4          3        Rural       1981  4537.418615\n",
      "10597        1177         2          3        Urban       2010   434.097124\n",
      "11991        1213         4          1       Suburb       2020  4910.415323\n",
      "15131        1178         4          2        Urban       2010  6124.032174\n",
      "17216        1013         2          1       Suburb       2018   276.063516\n",
      "17442        1600         2          3        Rural       1989  8238.884499\n",
      "20759        1036         2          2        Urban       1957  4810.724320\n",
      "23650        1024         4          3       Suburb       1953  4295.932176\n",
      "23662        1256         3          1        Rural       1978  3000.859614\n",
      "25459        1106         2          2        Urban       1984  7177.628532\n",
      "27300        1041         4          1        Urban       2002  3926.857020\n",
      "29827        1173         5          2        Rural       1988   847.895073\n",
      "29980        1005         3          3        Urban       1978  2697.849758\n",
      "30171        1066         3          1        Rural       1964   602.209099\n",
      "33371        1480         2          3       Suburb       1978  9887.442885\n",
      "34761        1042         2          2        Urban       2014  6360.211403\n",
      "35553        1374         4          3        Urban       1996  4771.570194\n",
      "36235        1112         3          1       Suburb       1978  2360.274450\n",
      "36929        1078         5          1       Suburb       2015  6159.039213\n",
      "40144        1006         2          1       Suburb       1973   154.779120\n",
      "46100        1003         3          1       Suburb       1981  7850.236271\n"
     ]
    }
   ],
   "source": [
    "\n",
    "# Check for prices below 10000.9321\n",
    "below_threshold_rows = data[data['Price'] < 10000.0000]\n",
    "print(\"\\nRows with prices below 10000.0000:\")\n",
    "print(below_threshold_rows)"
   ]
  },
  {
   "cell_type": "markdown",
   "id": "054619f0",
   "metadata": {},
   "source": [
    "The prices in those rows seem to have a misplaced decimal point, making them unrealistically low. Let's correct this by shifting the decimal point so there are 5 digits before it."
   ]
  },
  {
   "cell_type": "code",
   "execution_count": null,
   "id": "9905190b",
   "metadata": {},
   "outputs": [
    {
     "name": "stdout",
     "output_type": "stream",
     "text": [
      "Corrected rows:\n",
      "       SquareFeet  Bedrooms  Bathrooms Neighborhood  YearBuilt          Price\n",
      "2310         1036         4          1       Suburb       1983  755050.457436\n",
      "4537         1102         2          1       Suburb       1967  579605.862781\n",
      "4993         1161         2          2       Suburb       1972  833655.918927\n",
      "5426         1492         3          1       Suburb       1970  925592.330405\n",
      "5951         1097         4          3        Rural       1981  453741.861489\n",
      "10597        1177         2          3        Urban       2010  434097.124094\n",
      "11991        1213         4          1       Suburb       2020  491041.532315\n",
      "15131        1178         4          2        Urban       2010  612403.217362\n",
      "17216        1013         2          1       Suburb       2018  276063.516078\n",
      "17442        1600         2          3        Rural       1989  823888.449883\n",
      "20759        1036         2          2        Urban       1957  481072.432043\n",
      "23650        1024         4          3       Suburb       1953  429593.217586\n",
      "23662        1256         3          1        Rural       1978  300085.961430\n",
      "25459        1106         2          2        Urban       1984  717762.853223\n",
      "27300        1041         4          1        Urban       2002  392685.701977\n",
      "29827        1173         5          2        Rural       1988  847895.072570\n",
      "29980        1005         3          3        Urban       1978  269784.975781\n",
      "30171        1066         3          1        Rural       1964  602209.099359\n",
      "33371        1480         2          3       Suburb       1978  988744.288533\n",
      "34761        1042         2          2        Urban       2014  636021.140305\n",
      "35553        1374         4          3        Urban       1996  477157.019360\n",
      "36235        1112         3          1       Suburb       1978  236027.444991\n",
      "36929        1078         5          1       Suburb       2015  615903.921286\n",
      "40144        1006         2          1       Suburb       1973  154779.120072\n",
      "46100        1003         3          1       Suburb       1981  785023.627105\n"
     ]
    }
   ],
   "source": [
    "# Identify rows where price is below 10000\n",
    "below_threshold_rows = data['Price'] < 10000.0000\n",
    "\n",
    "# Function to shift the decimal to have 5 digits before it\n",
    "def correct_decimal(price):\n",
    "    if price == 0:  # Avoid issues with zero values\n",
    "        return 0\n",
    "    order = np.floor(np.log10(price))  # Find the order of magnitude of the price\n",
    "    if order < 5:  # Less than 6 digits before decimal\n",
    "        shift = 5 - order  # Calculate how many places to shift\n",
    "        price *= (10 ** shift)  # Multiply to shift the decimal\n",
    "    return price\n",
    "\n",
    "# Apply the correction to the selected rows\n",
    "data.loc[below_threshold_rows, 'Price'] = data.loc[below_threshold_rows, 'Price'].apply(correct_decimal)\n",
    "\n",
    "# Verify the correction\n",
    "print(\"Corrected rows:\")\n",
    "print(data.loc[below_threshold_rows])\n"
   ]
  },
  {
   "cell_type": "markdown",
   "id": "0ba96c76",
   "metadata": {},
   "source": [
    "### Data Wrangling"
   ]
  },
  {
   "cell_type": "markdown",
   "id": "73539ddd",
   "metadata": {},
   "source": [
    "Adding three additional columns for future visualization and analysis purposes."
   ]
  },
  {
   "cell_type": "code",
   "execution_count": 65,
   "id": "7a003e4f",
   "metadata": {},
   "outputs": [
    {
     "name": "stdout",
     "output_type": "stream",
     "text": [
      "   SquareFeet  Bedrooms  Bathrooms Neighborhood  YearBuilt          Price  \\\n",
      "0        2126         4          1        Rural       1969  215355.283618   \n",
      "1        2459         3          2        Rural       1980  195014.221626   \n",
      "2        1860         2          1       Suburb       1970  306891.012076   \n",
      "3        2294         2          1        Urban       1996  206786.787153   \n",
      "4        2130         5          2       Suburb       2001  272436.239065   \n",
      "\n",
      "   price_per_sqft  property_age listing_category  \n",
      "0      101.295994            56        Mid-Range  \n",
      "1       79.306312            45        Mid-Range  \n",
      "2      164.995168            55         High-End  \n",
      "3       90.142453            29        Mid-Range  \n",
      "4      127.904338            24         High-End  \n"
     ]
    }
   ],
   "source": [
    "# 1. price_per_sqft\n",
    "data['price_per_sqft'] = data['Price'] / data['SquareFeet']\n",
    "\n",
    "# 2. property_age\n",
    "current_year = 2025\n",
    "data['property_age'] = current_year - data['YearBuilt']\n",
    "\n",
    "# 3. listing_category based on Price quantiles\n",
    "quantiles = data['Price'].quantile([0.33, 0.66])\n",
    "\n",
    "def categorize_price(price):\n",
    "    if price <= quantiles[0.33]:\n",
    "        return 'Budget'\n",
    "    elif price <= quantiles[0.66]:\n",
    "        return 'Mid-Range'\n",
    "    else:\n",
    "        return 'High-End'\n",
    "\n",
    "data['listing_category'] = data['Price'].apply(categorize_price)\n",
    "\n",
    "# Display the first few rows to verify\n",
    "print(data.head())\n"
   ]
  },
  {
   "cell_type": "markdown",
   "id": "dd659c47",
   "metadata": {},
   "source": [
    "### Saving File for Dashboard Creation"
   ]
  },
  {
   "cell_type": "code",
   "execution_count": 66,
   "id": "c3c55aba",
   "metadata": {},
   "outputs": [],
   "source": [
    "data.to_csv('processed_data.csv', index=False)"
   ]
  }
 ],
 "metadata": {
  "kernelspec": {
   "display_name": "ML_courses",
   "language": "python",
   "name": "python3"
  },
  "language_info": {
   "codemirror_mode": {
    "name": "ipython",
    "version": 3
   },
   "file_extension": ".py",
   "mimetype": "text/x-python",
   "name": "python",
   "nbconvert_exporter": "python",
   "pygments_lexer": "ipython3",
   "version": "3.13.2"
  }
 },
 "nbformat": 4,
 "nbformat_minor": 5
}
